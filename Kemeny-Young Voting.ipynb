{
 "cells": [
  {
   "cell_type": "code",
   "execution_count": 1,
   "metadata": {
    "collapsed": true
   },
   "outputs": [],
   "source": [
    "import pandas as pd\n",
    "import numpy as np\n",
    "from itertools import combinations \n",
    "from itertools import permutations "
   ]
  },
  {
   "cell_type": "code",
   "execution_count": 1,
   "metadata": {
    "collapsed": true
   },
   "outputs": [],
   "source": [
    "# Generates random rankings of num_candidates number of candidates.\n",
    "# equal_pref=True means a ranking allows two candidates to be equal\n",
    "# in preference.\n",
    "def generate_random_ranking(num_candidates, num_rankings, equal_pref=True):\n",
    "    if not equal_pref:\n",
    "        return np.asarray([np.random.permutation(np.arange(num_candidates) + 1) for _ in range(num_rankings)])\n",
    "    else:\n",
    "        return np.random.choice(np.arange(num_candidates) + 1, (num_rankings, num_candidates))\n",
    "    \n",
    "\n",
    "# Creates the voter preference table given all the rankings, rankings\n",
    "# are expected to be an array, where each row contains the rankings, \n",
    "# the first element is the ranking for the 1st candidate, 2nd column is\n",
    "# for 2nd candidate, etc\n",
    "def generate_preference_table(rankings):\n",
    "    df = pd.DataFrame(rankings, columns = np.arange(rankings.shape[1]) + 1)\n",
    "    pref_df = pd.DataFrame(index = permutations(np.arange(rankings.shape[1]) + 1, 2), dtype=int)\n",
    "    for elem in permutations([1, 2, 3, 4], 2):\n",
    "        pref_df.loc[elem,\"A>B\"] = int(df[df[elem[0]] < df[elem[1]]].shape[0])\n",
    "        pref_df.loc[elem,\"A=B\"] = int(df[df[elem[0]] == df[elem[1]]].shape[0])\n",
    "    return pref_df.fillna(0).astype(int)\n",
    "\n",
    "# Scores all orderings and returns a dataframe sorted by order.\n",
    "# Scores are computed by summing matching rows in preference table, \n",
    "# ex. ranking 1, 2, 3, 4 would pull the A>B for (1, 2), (1, 3), (1, 4)\n",
    "# (2, 3), (2, 4) and (3, 4)\n",
    "def Score(pref_df, num_candidates):\n",
    "    scores = {}\n",
    "    for elem in permutations(np.arange(num_candidates) + 1):\n",
    "        rows = list(combinations(elem, 2))\n",
    "        scores[elem] = pref_df.loc[rows,\"A>B\"].sum()\n",
    "    scores = pd.DataFrame(index = scores.keys(), data = scores.values(), columns = ['score'])\n",
    "    return scores.sort_values(by='score', ascending=False)"
   ]
  },
  {
   "cell_type": "code",
   "execution_count": 155,
   "metadata": {},
   "outputs": [
    {
     "data": {
      "text/html": [
       "<div>\n",
       "<style>\n",
       "    .dataframe thead tr:only-child th {\n",
       "        text-align: right;\n",
       "    }\n",
       "\n",
       "    .dataframe thead th {\n",
       "        text-align: left;\n",
       "    }\n",
       "\n",
       "    .dataframe tbody tr th {\n",
       "        vertical-align: top;\n",
       "    }\n",
       "</style>\n",
       "<table border=\"1\" class=\"dataframe\">\n",
       "  <thead>\n",
       "    <tr style=\"text-align: right;\">\n",
       "      <th></th>\n",
       "      <th>score</th>\n",
       "    </tr>\n",
       "  </thead>\n",
       "  <tbody>\n",
       "    <tr>\n",
       "      <th>(1, 3, 4, 2)</th>\n",
       "      <td>2298</td>\n",
       "    </tr>\n",
       "    <tr>\n",
       "      <th>(1, 3, 2, 4)</th>\n",
       "      <td>2293</td>\n",
       "    </tr>\n",
       "    <tr>\n",
       "      <th>(1, 4, 3, 2)</th>\n",
       "      <td>2288</td>\n",
       "    </tr>\n",
       "    <tr>\n",
       "      <th>(3, 1, 4, 2)</th>\n",
       "      <td>2282</td>\n",
       "    </tr>\n",
       "    <tr>\n",
       "      <th>(3, 1, 2, 4)</th>\n",
       "      <td>2277</td>\n",
       "    </tr>\n",
       "  </tbody>\n",
       "</table>\n",
       "</div>"
      ],
      "text/plain": [
       "              score\n",
       "(1, 3, 4, 2)   2298\n",
       "(1, 3, 2, 4)   2293\n",
       "(1, 4, 3, 2)   2288\n",
       "(3, 1, 4, 2)   2282\n",
       "(3, 1, 2, 4)   2277"
      ]
     },
     "execution_count": 155,
     "metadata": {},
     "output_type": "execute_result"
    }
   ],
   "source": [
    "rankings = generate_random_ranking(4, 1000)\n",
    "pref_table = generate_preference_table(rankings)\n",
    "Scores = Score(pref_table, 4)\n",
    "Scores.head()"
   ]
  },
  {
   "cell_type": "markdown",
   "metadata": {},
   "source": [
    "# Testing that preference table sums to num_rankings"
   ]
  },
  {
   "cell_type": "code",
   "execution_count": 153,
   "metadata": {},
   "outputs": [
    {
     "name": "stdout",
     "output_type": "stream",
     "text": [
      "Success\n"
     ]
    }
   ],
   "source": [
    "# All of these should be equal to num_rankings. Our implementation of the\n",
    "# preference table is slightly different. So for (1, 2) we sum columns \n",
    "# 'A>B' and 'A=B' for (1, 2) and just column 'A>B' for row (2, 1)\n",
    "num_rankings = 10000\n",
    "num_trials = 1000\n",
    "\n",
    "for _ in range(num_trials):\n",
    "    rankings = generate_random_ranking(4, num_rankings)\n",
    "    pref_table = generate_preference_table(rankings)\n",
    "\n",
    "    for elem in permutations([1, 2, 3, 4], 2):\n",
    "        num = pref_table.loc[[elem],:].sum(axis=1).values[0]\n",
    "        num = num + pref_table.loc[[(elem[1], elem[0])], 'A>B'].values[0]\n",
    "        if num != num_rankings:\n",
    "            print(\"Failed test, \" + elem + \" did not sum to \" + num_rankings + \".\")\n",
    "print('Success')"
   ]
  },
  {
   "cell_type": "markdown",
   "metadata": {},
   "source": [
    "# Testing with Wikipedia Example\n",
    "\n",
    "https://en.wikipedia.org/wiki/Kemeny%E2%80%93Young_method"
   ]
  },
  {
   "cell_type": "code",
   "execution_count": 12,
   "metadata": {
    "collapsed": true
   },
   "outputs": [],
   "source": [
    "Key = {\n",
    "    \"Memphis\" : 1,\n",
    "    \"Nashville\" : 2,\n",
    "    \"Chattanooga\" : 3,\n",
    "    \"Knoxville\" : 4\n",
    "}"
   ]
  },
  {
   "cell_type": "code",
   "execution_count": 138,
   "metadata": {
    "collapsed": true
   },
   "outputs": [],
   "source": [
    "Memphis_votes = np.tile([1, 2, 3, 4], (42, 1))\n",
    "Nashville_votes = np.tile([4, 1, 2, 3], (26, 1))\n",
    "Chattanooga_votes = np.tile([4, 3, 1, 2], (15, 1))\n",
    "Knoxville_votes = np.tile([4, 3, 2, 1], (17, 1))\n",
    "\n",
    "Tennessee_rankings = np.concatenate([Memphis_votes, Nashville_votes, Chattanooga_votes, Knoxville_votes])"
   ]
  },
  {
   "cell_type": "markdown",
   "metadata": {},
   "source": [
    "## Manually entering correct outcomes from Wikipedia"
   ]
  },
  {
   "cell_type": "code",
   "execution_count": 180,
   "metadata": {
    "collapsed": true
   },
   "outputs": [],
   "source": [
    "# Manually enter preference data from Wikipedia to compare to our generated version\n",
    "wiki_pref_df = pd.DataFrame(index = permutations(np.arange(4) + 1, 2), columns = ['A>B', 'A=B'])\n",
    "wiki_pref_df.loc[(1, 2), \"A>B\"] = 42\n",
    "wiki_pref_df.loc[(1, 3), \"A>B\"] = 42\n",
    "wiki_pref_df.loc[(1, 4), \"A>B\"] = 42\n",
    "wiki_pref_df.loc[(2, 3), \"A>B\"] = 68\n",
    "wiki_pref_df.loc[(2, 4), \"A>B\"] = 68\n",
    "wiki_pref_df.loc[(3, 4), \"A>B\"] = 83\n",
    "wiki_pref_df.loc[(2, 1), \"A>B\"] = 58\n",
    "wiki_pref_df.loc[(3, 1), \"A>B\"] = 58\n",
    "wiki_pref_df.loc[(4, 1), \"A>B\"] = 58\n",
    "wiki_pref_df.loc[(3, 2), \"A>B\"] = 32\n",
    "wiki_pref_df.loc[(4, 2), \"A>B\"] = 32\n",
    "wiki_pref_df.loc[(4, 3), \"A>B\"] = 17\n",
    "wiki_pref_df.loc[:,'A=B'] = 0\n",
    "\n",
    "wiki_pref_df = wiki_pref_df.astype(int)\n",
    "\n",
    "# Manually enter ranking scores to compare to ours\n",
    "\n",
    "wiki_scores = pd.DataFrame(index = permutations([1, 2, 3, 4]), columns = ['score'])\n",
    "wiki_scores.loc[[(1, 2, 3, 4)],'score'] = 345\n",
    "wiki_scores.loc[[(1, 2, 4, 3)],'score'] = 279\n",
    "wiki_scores.loc[[(1, 3, 2, 4)],'score'] = 309\n",
    "wiki_scores.loc[[(1, 3, 4, 2)],'score'] = 273\n",
    "wiki_scores.loc[[(1, 4, 2, 3)],'score'] = 243\n",
    "wiki_scores.loc[[(1, 4, 3, 2)],'score'] = 207\n",
    "\n",
    "wiki_scores.loc[[(2, 1, 3, 4)],'score'] = 361\n",
    "wiki_scores.loc[[(2, 1, 4, 3)],'score'] = 295\n",
    "wiki_scores.loc[[(2, 3, 1, 4)],'score'] = 377\n",
    "wiki_scores.loc[[(2, 3, 4, 1)],'score'] = 393\n",
    "wiki_scores.loc[[(2, 4, 1, 3)],'score'] = 311\n",
    "wiki_scores.loc[[(2, 4, 3, 1)],'score'] = 327\n",
    "\n",
    "wiki_scores.loc[[(3, 1, 2, 4)],'score'] = 325\n",
    "wiki_scores.loc[[(3, 1, 4, 2)],'score'] = 289\n",
    "wiki_scores.loc[[(3, 2, 1, 4)],'score'] = 341\n",
    "wiki_scores.loc[[(3, 2, 4, 1)],'score'] = 357\n",
    "wiki_scores.loc[[(3, 4, 1, 2)],'score'] = 305\n",
    "wiki_scores.loc[[(3, 4, 2, 1)],'score'] = 321\n",
    "\n",
    "wiki_scores.loc[[(4, 1, 2, 3)],'score'] = 259\n",
    "wiki_scores.loc[[(4, 1, 3, 2)],'score'] = 223\n",
    "wiki_scores.loc[[(4, 2, 1, 3)],'score'] = 275\n",
    "wiki_scores.loc[[(4, 2, 3, 1)],'score'] = 291\n",
    "wiki_scores.loc[[(4, 3, 1, 2)],'score'] = 239\n",
    "wiki_scores.loc[[(4, 3, 2, 1)],'score'] = 255\n",
    "\n",
    "wiki_scores = wiki_scores.astype(int)"
   ]
  },
  {
   "cell_type": "markdown",
   "metadata": {},
   "source": [
    "## Compare tables"
   ]
  },
  {
   "cell_type": "code",
   "execution_count": 204,
   "metadata": {},
   "outputs": [
    {
     "name": "stdout",
     "output_type": "stream",
     "text": [
      "('Checking if preference tables match: ', True)\n",
      "('Checking if Score tables match: ', True)\n"
     ]
    }
   ],
   "source": [
    "Tennessee_pref_table = generate_preference_table(Tennessee_rankings)\n",
    "print(\"Checking if preference tables match: \", Tennessee_pref_table.equals(wiki_pref_df))\n",
    "\n",
    "Tennessee_scores = Score(Tennessee_pref_table, 4)\n",
    "val = np.all([Tennessee_scores.loc[[elem],'score'].values[0] == wiki_scores.loc[[elem], 'score'].values[0]\n",
    "            for elem in permutations([1, 2, 3, 4])])\n",
    "print(\"Checking if Score tables match: \", val)\n"
   ]
  },
  {
   "cell_type": "markdown",
   "metadata": {},
   "source": [
    "Ayyyyyyyyyy\n",
    "\n",
    "# Connect it to a google sheet that gets data from a google form."
   ]
  },
  {
   "cell_type": "code",
   "execution_count": null,
   "metadata": {
    "collapsed": true
   },
   "outputs": [],
   "source": []
  },
  {
   "cell_type": "code",
   "execution_count": null,
   "metadata": {
    "collapsed": true
   },
   "outputs": [],
   "source": []
  }
 ],
 "metadata": {
  "kernelspec": {
   "display_name": "Python 3",
   "language": "python",
   "name": "python3"
  },
  "language_info": {
   "codemirror_mode": {
    "name": "ipython",
    "version": 3
   },
   "file_extension": ".py",
   "mimetype": "text/x-python",
   "name": "python",
   "nbconvert_exporter": "python",
   "pygments_lexer": "ipython3",
   "version": "3.6.7"
  },
  "toc": {
   "base_numbering": 1,
   "nav_menu": {},
   "number_sections": true,
   "sideBar": true,
   "skip_h1_title": false,
   "title_cell": "Table of Contents",
   "title_sidebar": "Contents",
   "toc_cell": false,
   "toc_position": {},
   "toc_section_display": true,
   "toc_window_display": false
  }
 },
 "nbformat": 4,
 "nbformat_minor": 2
}
